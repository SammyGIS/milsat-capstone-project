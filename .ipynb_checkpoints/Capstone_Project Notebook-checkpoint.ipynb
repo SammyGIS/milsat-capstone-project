{
 "cells": [
  {
   "cell_type": "markdown",
   "metadata": {},
   "source": [
    "# Capstone Project (Data Engineering and Intelligence Unit)"
   ]
  },
  {
   "cell_type": "markdown",
   "metadata": {},
   "source": [
    "Objective: To test the level of expertise across\n",
    "-\tData acquisition\n",
    "-\tData analysis\n",
    "-\tData Visualization\n",
    "-\tData interpretation (insight generation)\n",
    "\n",
    "Data Category: Health, Energy, Religion, Agriculture, Hospitality, Finance\n",
    "\n",
    "Capstone Rule:\n",
    "-\tAll datasets must be from Nigerian geography.\n",
    "-\tTry to make your deliverable as native to the Nigerian ecosystem as possible.\n",
    "-\tBe original in your deliverable.\n",
    "\n",
    "#### Task One: Select one or more data categories, search the internet, and acquire enough geospatial and statistical dataset \n",
    "Deliverables: \n",
    "-\tAcquired dataset and their referenced source \n",
    "\n",
    "#### Task Two: Clean and analyze the acquired dataset, generation at least 10 analytical outputs you believe are useful \n",
    "(hint: try to focus on what can help create solution, impact or business intelligence).\n",
    "Deliverable: \n",
    "-\tCleaned dataset\n",
    "-\tAnalytical report and method used\n",
    "\n",
    "#### Task Three: Create a visualization based on the analysis done, visuals should be in both statistical charts and maps.\n",
    "(hint: your output here can be either static or interactive or both)\n",
    "Deliverables:\n",
    "-\tStatistical Chart(s)\n",
    "-\tEmbellished map(s)\n",
    "\n",
    "#### Task Four: Interpret maps and charts in a summarized format (no more than 500 words) providing a relatable context on how the visualization relates to reality in terms of solution, impact, or profitability \n",
    "\n",
    "\n",
    "#### Deliverables:\n",
    "-\tA document having all visualization with their appending interpretation\n",
    "\n"
   ]
  },
  {
   "cell_type": "code",
   "execution_count": 67,
   "metadata": {},
   "outputs": [],
   "source": [
    "# import all the neccessary libary for Data Analysis and Geospatial analysis\n",
    "import geopandas as gpd\n",
    "import pandas as pd\n",
    "import numpy as np\n",
    "import rasterio\n",
    "import matplotlib.pyplot as plt\n",
    "import seaborn as sns\n",
    "import fiona\n",
    "import os\n",
    "from rasterio import mask\n",
    "import zipfile\n",
    "from shapely.geometry import Point\n",
    "\n",
    "from datetime import datetime as dt\n",
    "import matplotlib.pyplot as plt\n",
    "\n",
    "import warnings\n",
    "warnings.filterwarnings(\"ignore\")"
   ]
  },
  {
   "cell_type": "markdown",
   "metadata": {},
   "source": [
    "## Data Category: Health"
   ]
  },
  {
   "cell_type": "code",
   "execution_count": 2,
   "metadata": {},
   "outputs": [],
   "source": [
    "# # download the health datsets\n",
    "# !wget https://data.humdata.org/dataset/3b4a119a-309c-4d3f-900f-18a1f6ca2dfa/resource/5a3bdd13-3ada-4bf4-ac38-643390bc0562/download/nigeriahealthfacilities.json -O data/nigeriahealthfacilities.json"
   ]
  },
  {
   "cell_type": "code",
   "execution_count": 3,
   "metadata": {},
   "outputs": [
    {
     "data": {
      "text/html": [
       "<div>\n",
       "<style scoped>\n",
       "    .dataframe tbody tr th:only-of-type {\n",
       "        vertical-align: middle;\n",
       "    }\n",
       "\n",
       "    .dataframe tbody tr th {\n",
       "        vertical-align: top;\n",
       "    }\n",
       "\n",
       "    .dataframe thead th {\n",
       "        text-align: right;\n",
       "    }\n",
       "</style>\n",
       "<table border=\"1\" class=\"dataframe\">\n",
       "  <thead>\n",
       "    <tr style=\"text-align: right;\">\n",
       "      <th></th>\n",
       "      <th>id</th>\n",
       "      <th>name</th>\n",
       "      <th>global_id</th>\n",
       "      <th>alternate_name</th>\n",
       "      <th>functional_status</th>\n",
       "      <th>type</th>\n",
       "      <th>ward_code</th>\n",
       "      <th>category</th>\n",
       "      <th>timestamp</th>\n",
       "      <th>accessibility</th>\n",
       "      <th>lga_name</th>\n",
       "      <th>lga_code</th>\n",
       "      <th>state_code</th>\n",
       "      <th>state_name</th>\n",
       "      <th>geometry</th>\n",
       "    </tr>\n",
       "  </thead>\n",
       "  <tbody>\n",
       "    <tr>\n",
       "      <th>0</th>\n",
       "      <td>1</td>\n",
       "      <td>G R A Nursing Home</td>\n",
       "      <td>af719462-abfd-4f47-9dc3-0987164e75ac</td>\n",
       "      <td>Nursing Home</td>\n",
       "      <td>Unknown</td>\n",
       "      <td>Primary</td>\n",
       "      <td>12413</td>\n",
       "      <td>Primary Health Center</td>\n",
       "      <td>2020-07-04T13:49:18</td>\n",
       "      <td>None</td>\n",
       "      <td>Maiduguri</td>\n",
       "      <td>124</td>\n",
       "      <td>BR</td>\n",
       "      <td>Borno</td>\n",
       "      <td>POINT (13.14832 11.82232)</td>\n",
       "    </tr>\n",
       "    <tr>\n",
       "      <th>1</th>\n",
       "      <td>2</td>\n",
       "      <td>Gishili Health Center</td>\n",
       "      <td>a29b0328-d844-4358-b0ab-2e120b8fb30f</td>\n",
       "      <td>Nursing Home</td>\n",
       "      <td>Functional</td>\n",
       "      <td>Primary</td>\n",
       "      <td>12413</td>\n",
       "      <td>Primary Health Center</td>\n",
       "      <td>2020-07-04T13:49:18</td>\n",
       "      <td>Unknown</td>\n",
       "      <td>Maiduguri</td>\n",
       "      <td>124</td>\n",
       "      <td>BR</td>\n",
       "      <td>Borno</td>\n",
       "      <td>POINT (13.14718 11.82161)</td>\n",
       "    </tr>\n",
       "    <tr>\n",
       "      <th>2</th>\n",
       "      <td>3</td>\n",
       "      <td>Lehobi Primary Health Care</td>\n",
       "      <td>b685b769-5c83-4f83-a182-00e7e1b777d8</td>\n",
       "      <td>None</td>\n",
       "      <td>Partially Functional</td>\n",
       "      <td>Primary</td>\n",
       "      <td>10207</td>\n",
       "      <td>Primary Health Center</td>\n",
       "      <td>2020-07-04T13:49:18</td>\n",
       "      <td>None</td>\n",
       "      <td>Askira Uba</td>\n",
       "      <td>102</td>\n",
       "      <td>BR</td>\n",
       "      <td>Borno</td>\n",
       "      <td>POINT (12.81628 10.70709)</td>\n",
       "    </tr>\n",
       "    <tr>\n",
       "      <th>3</th>\n",
       "      <td>4</td>\n",
       "      <td>Dugja Idp Camp</td>\n",
       "      <td>78e64f7a-cbb8-4357-9e64-a7e502534527</td>\n",
       "      <td>Mandara Girau Dispensary</td>\n",
       "      <td>Not Functional</td>\n",
       "      <td>Primary</td>\n",
       "      <td>10503</td>\n",
       "      <td>Primary Health Center</td>\n",
       "      <td>2020-07-04T13:49:18</td>\n",
       "      <td>Unknown</td>\n",
       "      <td>Biu</td>\n",
       "      <td>105</td>\n",
       "      <td>BR</td>\n",
       "      <td>Borno</td>\n",
       "      <td>POINT (12.18163 10.61522)</td>\n",
       "    </tr>\n",
       "    <tr>\n",
       "      <th>4</th>\n",
       "      <td>5</td>\n",
       "      <td>Kopa Maikudiri Dispensary</td>\n",
       "      <td>409c97ce-7490-4dc2-a8f8-2b8d53ad2b12</td>\n",
       "      <td>None</td>\n",
       "      <td>Partially Functional</td>\n",
       "      <td>Primary</td>\n",
       "      <td>10209</td>\n",
       "      <td>Dispensary</td>\n",
       "      <td>2020-07-04T13:49:18</td>\n",
       "      <td>Unknown</td>\n",
       "      <td>Askira Uba</td>\n",
       "      <td>102</td>\n",
       "      <td>BR</td>\n",
       "      <td>Borno</td>\n",
       "      <td>POINT (13.31336 10.75953)</td>\n",
       "    </tr>\n",
       "  </tbody>\n",
       "</table>\n",
       "</div>"
      ],
      "text/plain": [
       "   id                        name                             global_id  \\\n",
       "0   1          G R A Nursing Home  af719462-abfd-4f47-9dc3-0987164e75ac   \n",
       "1   2       Gishili Health Center  a29b0328-d844-4358-b0ab-2e120b8fb30f   \n",
       "2   3  Lehobi Primary Health Care  b685b769-5c83-4f83-a182-00e7e1b777d8   \n",
       "3   4              Dugja Idp Camp  78e64f7a-cbb8-4357-9e64-a7e502534527   \n",
       "4   5   Kopa Maikudiri Dispensary  409c97ce-7490-4dc2-a8f8-2b8d53ad2b12   \n",
       "\n",
       "             alternate_name     functional_status     type ward_code  \\\n",
       "0              Nursing Home               Unknown  Primary     12413   \n",
       "1              Nursing Home            Functional  Primary     12413   \n",
       "2                      None  Partially Functional  Primary     10207   \n",
       "3  Mandara Girau Dispensary        Not Functional  Primary     10503   \n",
       "4                      None  Partially Functional  Primary     10209   \n",
       "\n",
       "                category            timestamp accessibility    lga_name  \\\n",
       "0  Primary Health Center  2020-07-04T13:49:18          None   Maiduguri   \n",
       "1  Primary Health Center  2020-07-04T13:49:18       Unknown   Maiduguri   \n",
       "2  Primary Health Center  2020-07-04T13:49:18          None  Askira Uba   \n",
       "3  Primary Health Center  2020-07-04T13:49:18       Unknown         Biu   \n",
       "4             Dispensary  2020-07-04T13:49:18       Unknown  Askira Uba   \n",
       "\n",
       "  lga_code state_code state_name                   geometry  \n",
       "0      124         BR      Borno  POINT (13.14832 11.82232)  \n",
       "1      124         BR      Borno  POINT (13.14718 11.82161)  \n",
       "2      102         BR      Borno  POINT (12.81628 10.70709)  \n",
       "3      105         BR      Borno  POINT (12.18163 10.61522)  \n",
       "4      102         BR      Borno  POINT (13.31336 10.75953)  "
      ]
     },
     "execution_count": 3,
     "metadata": {},
     "output_type": "execute_result"
    }
   ],
   "source": [
    "# location of folder where all files are stored\n",
    "# load the health facilities dataset\n",
    "Nighealth_facilities = gpd.read_file(r'data/nigeriahealthfacilities.json')\n",
    "\n",
    "# subset the data for boorno states only\n",
    "health_facilities = Nighealth_facilities[Nighealth_facilities.state_name == \"Borno\"]\n",
    "health_facilities.head()"
   ]
  },
  {
   "cell_type": "code",
   "execution_count": 4,
   "metadata": {},
   "outputs": [
    {
     "data": {
      "text/plain": [
       "884"
      ]
     },
     "execution_count": 4,
     "metadata": {},
     "output_type": "execute_result"
    }
   ],
   "source": [
    "# Find the total number of existing healthcare facilities\n",
    "len(health_facilities)"
   ]
  },
  {
   "cell_type": "code",
   "execution_count": 5,
   "metadata": {},
   "outputs": [
    {
     "data": {
      "text/plain": [
       "Index(['id', 'name', 'global_id', 'alternate_name', 'functional_status',\n",
       "       'type', 'ward_code', 'category', 'timestamp', 'accessibility',\n",
       "       'lga_name', 'lga_code', 'state_code', 'state_name', 'geometry'],\n",
       "      dtype='object')"
      ]
     },
     "execution_count": 5,
     "metadata": {},
     "output_type": "execute_result"
    }
   ],
   "source": [
    "health_facilities.columns"
   ]
  },
  {
   "cell_type": "code",
   "execution_count": 6,
   "metadata": {
    "scrolled": false
   },
   "outputs": [
    {
     "data": {
      "text/plain": [
       "Primary Health Center               379\n",
       "Dispensary                          340\n",
       "Private Non Profit                   44\n",
       "General Hospital                     31\n",
       "Maternity Home                       16\n",
       "Military and Paramilitary Clinic      9\n",
       "Specialist Hospital                   8\n",
       "Educational Clinic                    6\n",
       "Others                                4\n",
       "Federal Staff Clinic                  4\n",
       "Comprehensive Health Center           3\n",
       "Federal Medical Center                2\n",
       "Medical Center                        2\n",
       "Veterinary Clinic                     1\n",
       "Teaching Hospital                     1\n",
       "Name: category, dtype: int64"
      ]
     },
     "execution_count": 6,
     "metadata": {},
     "output_type": "execute_result"
    }
   ],
   "source": [
    "# Find the categories of healthcare facilities available\n",
    "health_facilities.category.value_counts()"
   ]
  },
  {
   "cell_type": "code",
   "execution_count": 7,
   "metadata": {},
   "outputs": [
    {
     "data": {
      "text/plain": [
       "Text(0.5, 1.0, 'CATEGORIES OF EXISTING HEALTHCARE FACILITIES')"
      ]
     },
     "execution_count": 7,
     "metadata": {},
     "output_type": "execute_result"
    },
    {
     "data": {
      "image/png": "[encoded data removed]",
      "text/plain": [
       "<Figure size 432x288 with 1 Axes>"
      ]
     },
     "metadata": {
      "needs_background": "light"
     },
     "output_type": "display_data"
    }
   ],
   "source": [
    "#visualize the categories by frequency\n",
    "health_facilities.category.value_counts().plot(kind=\"barh\");\n",
    "plt.title(\"CATEGORIES OF EXISTING HEALTHCARE FACILITIES\")\n",
    "# plt.savefig(os.path.join(output,\"CATEGORIES OF EXISTING HEALTHCARE FACILITIES\"))"
   ]
  },
  {
   "cell_type": "code",
   "execution_count": 8,
   "metadata": {},
   "outputs": [
    {
     "data": {
      "text/plain": [
       "Functional              673\n",
       "Unknown                 162\n",
       "Not Functional           42\n",
       "Partially Functional      7\n",
       "Name: functional_status, dtype: int64"
      ]
     },
     "execution_count": 8,
     "metadata": {},
     "output_type": "execute_result"
    }
   ],
   "source": [
    "health_facilities.functional_status.value_counts()"
   ]
  },
  {
   "cell_type": "code",
   "execution_count": 9,
   "metadata": {},
   "outputs": [
    {
     "data": {
      "text/plain": [
       "Maiduguri     69\n",
       "Askira Uba    68\n",
       "Jere          58\n",
       "Gwoza         50\n",
       "Damboa        48\n",
       "Konduga       46\n",
       "Bama          43\n",
       "Biu           43\n",
       "Hawul         40\n",
       "Shani         40\n",
       "Name: lga_name, dtype: int64"
      ]
     },
     "execution_count": 9,
     "metadata": {},
     "output_type": "execute_result"
    }
   ],
   "source": [
    "# 10 lga wth the higest number of hospitals\n",
    "health_facilities.lga_name.value_counts().head(10)"
   ]
  },
  {
   "cell_type": "code",
   "execution_count": 10,
   "metadata": {},
   "outputs": [
    {
     "data": {
      "image/png": "[encoded data removed]",
      "text/plain": [
       "<Figure size 432x288 with 1 Axes>"
      ]
     },
     "metadata": {
      "needs_background": "light"
     },
     "output_type": "display_data"
    }
   ],
   "source": [
    "health_facilities.lga_name.value_counts().head(10).plot(kind='barh');"
   ]
  },
  {
   "cell_type": "code",
   "execution_count": 11,
   "metadata": {},
   "outputs": [
    {
     "data": {
      "text/plain": [
       "Magumeri      21\n",
       "Marte         21\n",
       "Kala Balge    19\n",
       "Kaga          19\n",
       "Ngala         17\n",
       "Nganzai       16\n",
       "Mobbar        15\n",
       "Guzamala      14\n",
       "Gubio         14\n",
       "Abadam        13\n",
       "Name: lga_name, dtype: int64"
      ]
     },
     "execution_count": 11,
     "metadata": {},
     "output_type": "execute_result"
    }
   ],
   "source": [
    "# 10 lga wth the least number of hospitals\n",
    "health_facilities.lga_name.value_counts().tail(10)"
   ]
  },
  {
   "cell_type": "code",
   "execution_count": 12,
   "metadata": {},
   "outputs": [
    {
     "data": {
      "image/png": "[encoded data removed]",
      "text/plain": [
       "<Figure size 432x288 with 1 Axes>"
      ]
     },
     "metadata": {
      "needs_background": "light"
     },
     "output_type": "display_data"
    }
   ],
   "source": [
    "health_facilities.lga_name.value_counts().tail(10).plot(kind=\"barh\");"
   ]
  },
  {
   "cell_type": "markdown",
   "metadata": {},
   "source": [
    "#### Validate the Health Facilitites Data using Geospatial Technique"
   ]
  },
  {
   "cell_type": "code",
   "execution_count": 13,
   "metadata": {},
   "outputs": [
    {
     "name": "stdout",
     "output_type": "stream",
     "text": [
      "epsg:4326\n"
     ]
    }
   ],
   "source": [
    "# check the spatial reference of the health facility point layer\n",
    "print(health_facilities.crs)"
   ]
  },
  {
   "cell_type": "markdown",
   "metadata": {},
   "source": [
    "Reproject the health facility point CRS from WGS84 to UTM. \n",
    "This is needed whenever one is doing any GIS analysis that involves distance, to get the accurate distnace the data needs to be reprojected to it's local datum."
   ]
  },
  {
   "cell_type": "code",
   "execution_count": 14,
   "metadata": {},
   "outputs": [
    {
     "name": "stdout",
     "output_type": "stream",
     "text": [
      "epsg:32632\n"
     ]
    }
   ],
   "source": [
    "# reproject the health facility point CRS from WGS84 to UTM\n",
    "reproj_facilities = health_facilities.to_crs(epsg=32632)\n",
    "print(reproj_facilities.crs)"
   ]
  },
  {
   "cell_type": "code",
   "execution_count": 15,
   "metadata": {},
   "outputs": [
    {
     "name": "stdout",
     "output_type": "stream",
     "text": [
      "epsg:4326\n"
     ]
    },
    {
     "data": {
      "image/png": "[encoded data removed]",
      "text/plain": [
       "<Figure size 576x576 with 1 Axes>"
      ]
     },
     "metadata": {
      "needs_background": "light"
     },
     "output_type": "display_data"
    }
   ],
   "source": [
    "# Create a buffer of 500m around the healthcare faciliites\n",
    "buffer_facilities =reproj_facilities.geometry.buffer(1000)\n",
    "# Overlay it on a map to visualize\n",
    "\n",
    "buffer_ = gpd.GeoDataFrame(buffer_facilities)\n",
    "buffer_.rename(columns={0:\"geometry\"},inplace=True)\n",
    "buffer_.to_crs(epsg=4326, inplace=True)\n",
    "print(buffer_.crs)\n",
    "buffer_.plot(color=\"blue\",figsize=(8,8));\n",
    "plt.title(\"EXISTING HEALTHCARE FACILITIES\");\n",
    "# plt.savefig(os.path.join(location,\"EXISTING HEALTHCARE FACILITIES\"))"
   ]
  },
  {
   "cell_type": "code",
   "execution_count": 16,
   "metadata": {},
   "outputs": [],
   "source": [
    "# # Download the Nigeria Population estimate raster data from Grid3\n",
    "# !wget https://wopr.worldpop.org/download/495 -O data/NGA_population_v2_0_gridded.zip"
   ]
  },
  {
   "cell_type": "code",
   "execution_count": 17,
   "metadata": {},
   "outputs": [],
   "source": [
    "# zipped_file = \"data/NGA_population_v2_0_gridded.zip\"\n",
    "\n",
    "def extract_zip(data):\n",
    "    # directory to extract the data\n",
    "    \n",
    "    data_folder = \"data/\"\n",
    "\n",
    "    # Extract the zip file to a directory\n",
    "    with zipfile.ZipFile(data, 'r') as zip_file:\n",
    "        zip_file.extractall(data_folder)\n",
    "        \n",
    "#extract_zip(zipped_file)"
   ]
  },
  {
   "cell_type": "code",
   "execution_count": 18,
   "metadata": {},
   "outputs": [],
   "source": [
    "# # download Borno Admin boundaries shapefile\n",
    "# !wget https://data.humdata.org/dataset/a1d24d7c-1341-46ce-9a61-66a57f0bd5d4/resource/00704b7f-6137-4832-852b-6ad6d7142403/download/borno_admin2_boundaries_lga.zip   -O data/borno_admin2_boundaries_lga.zip "
   ]
  },
  {
   "cell_type": "code",
   "execution_count": 19,
   "metadata": {},
   "outputs": [],
   "source": [
    "# lga ziped file\n",
    "# lga_data = 'data/borno_admin2_boundaries_lga.zip'\n",
    "\n",
    "# # extract the admin boundary \n",
    "# extract_zip(lga_data)"
   ]
  },
  {
   "cell_type": "code",
   "execution_count": 20,
   "metadata": {},
   "outputs": [
    {
     "data": {
      "image/png": "[encoded data removed]",
      "text/plain": [
       "<Figure size 720x576 with 2 Axes>"
      ]
     },
     "metadata": {
      "needs_background": "light"
     },
     "output_type": "display_data"
    }
   ],
   "source": [
    "# Load the Borno LGA data\n",
    "borno_lga = gpd.read_file('data/Borno_Admin_Boundaries_OnlyBorno_eHA_IOM_LGAs.shp')\n",
    "\n",
    "# Merge based on 'StateCode'\n",
    "state = borno_lga.dissolve(by='StateCode')\n",
    "\n",
    "# Load the gridded raster population map using rasterio\n",
    "pop_raster = \"NGA_population_v2_0_gridded.tif\"\n",
    "raster = rasterio.open(os.path.join(\"data\", pop_raster))\n",
    "\n",
    "# Clip the raster data to Borno boundary data\n",
    "borno_pop_raster, transform = mask.mask(raster, state[\"geometry\"], crop=True)\n",
    "\n",
    "# Plot the clipped raster data\n",
    "plt.figure(figsize=(10, 8))\n",
    "plt.imshow(borno_pop_raster[0], cmap='viridis')  # Access the clipped data using indexing\n",
    "plt.colorbar(fraction=0.05)\n",
    "plt.show()"
   ]
  },
  {
   "cell_type": "code",
   "execution_count": 21,
   "metadata": {},
   "outputs": [
    {
     "name": "stdout",
     "output_type": "stream",
     "text": [
      "The total estimated population of Borno state is 6070348\n"
     ]
    }
   ],
   "source": [
    "# Total Estimated Population of Zamfara State from the raster data\n",
    "pop_zamfara_sum = borno_pop_raster[borno_pop_raster > 0].sum()\n",
    "print(f'The total estimated population of Borno state is {round(pop_zamfara_sum)}')"
   ]
  },
  {
   "cell_type": "code",
   "execution_count": 22,
   "metadata": {},
   "outputs": [],
   "source": [
    "# create a function that can be used to calculate zonal statistics\n",
    "def zonal_stat(raster,poly):\n",
    "    \"\"\"\"\n",
    "    This function is used to compute a sum stat of a raster wihtin a particular polygon\n",
    "    imagery: Raster image that will be use to compute the stat\n",
    "    poly: The overlayed boundary whose stat will be computed    \n",
    "    Return: list contain sum of pixel of the raster within each define poly\n",
    "    \"\"\"\n",
    "    _results = []\n",
    "    for i in poly[\"geometry\"]:\n",
    "        aoi = poly[poly[\"geometry\"]== i]\n",
    "\n",
    "        # using the mask.mask module from Rasterio to specify the ROI\n",
    "        gtraster, bound = mask.mask(raster, aoi[\"geometry\"], crop=True) \n",
    "        \n",
    "        # values greater than 0 represent the estimated population count for that pixel\n",
    "        _results.append(round(gtraster[gtraster > 0].sum()))\n",
    "\n",
    "    return _results"
   ]
  },
  {
   "cell_type": "code",
   "execution_count": 23,
   "metadata": {},
   "outputs": [],
   "source": [
    "# Use the 1000m buffer around the health facilities to compute the total estiimated population within the radium of 1km of the clinic\n",
    "df1 = zonal_stat(raster,buffer_)\n",
    "buffer_[\"Population within 1000m radius\"] = df1\n",
    "buffer_[\"id\"] = reproj_facilities[\"id\"]"
   ]
  },
  {
   "cell_type": "code",
   "execution_count": 98,
   "metadata": {},
   "outputs": [
    {
     "data": {
      "text/html": [
       "<div>\n",
       "<style scoped>\n",
       "    .dataframe tbody tr th:only-of-type {\n",
       "        vertical-align: middle;\n",
       "    }\n",
       "\n",
       "    .dataframe tbody tr th {\n",
       "        vertical-align: top;\n",
       "    }\n",
       "\n",
       "    .dataframe thead th {\n",
       "        text-align: right;\n",
       "    }\n",
       "</style>\n",
       "<table border=\"1\" class=\"dataframe\">\n",
       "  <thead>\n",
       "    <tr style=\"text-align: right;\">\n",
       "      <th></th>\n",
       "      <th>Population within 1000m radius</th>\n",
       "      <th>id</th>\n",
       "      <th>name</th>\n",
       "      <th>functional_status</th>\n",
       "      <th>type</th>\n",
       "      <th>category</th>\n",
       "      <th>timestamp</th>\n",
       "      <th>lga_name</th>\n",
       "      <th>state_name</th>\n",
       "      <th>geometry_y</th>\n",
       "    </tr>\n",
       "  </thead>\n",
       "  <tbody>\n",
       "    <tr>\n",
       "      <th>0</th>\n",
       "      <td>12730</td>\n",
       "      <td>1</td>\n",
       "      <td>G R A Nursing Home</td>\n",
       "      <td>Unknown</td>\n",
       "      <td>Primary</td>\n",
       "      <td>Primary Health Center</td>\n",
       "      <td>2020-07-04T13:49:18</td>\n",
       "      <td>Maiduguri</td>\n",
       "      <td>Borno</td>\n",
       "      <td>POINT (952240.436 1310264.751)</td>\n",
       "    </tr>\n",
       "    <tr>\n",
       "      <th>1</th>\n",
       "      <td>12910</td>\n",
       "      <td>2</td>\n",
       "      <td>Gishili Health Center</td>\n",
       "      <td>Functional</td>\n",
       "      <td>Primary</td>\n",
       "      <td>Primary Health Center</td>\n",
       "      <td>2020-07-04T13:49:18</td>\n",
       "      <td>Maiduguri</td>\n",
       "      <td>Borno</td>\n",
       "      <td>POINT (952116.692 1310184.703)</td>\n",
       "    </tr>\n",
       "    <tr>\n",
       "      <th>2</th>\n",
       "      <td>1621</td>\n",
       "      <td>3</td>\n",
       "      <td>Lehobi Primary Health Care</td>\n",
       "      <td>Partially Functional</td>\n",
       "      <td>Primary</td>\n",
       "      <td>Primary Health Center</td>\n",
       "      <td>2020-07-04T13:49:18</td>\n",
       "      <td>Askira Uba</td>\n",
       "      <td>Borno</td>\n",
       "      <td>POINT (917601.224 1186179.501)</td>\n",
       "    </tr>\n",
       "    <tr>\n",
       "      <th>3</th>\n",
       "      <td>30499</td>\n",
       "      <td>4</td>\n",
       "      <td>Dugja Idp Camp</td>\n",
       "      <td>Not Functional</td>\n",
       "      <td>Primary</td>\n",
       "      <td>Primary Health Center</td>\n",
       "      <td>2020-07-04T13:49:18</td>\n",
       "      <td>Biu</td>\n",
       "      <td>Borno</td>\n",
       "      <td>POINT (848184.257 1175216.864)</td>\n",
       "    </tr>\n",
       "    <tr>\n",
       "      <th>4</th>\n",
       "      <td>1827</td>\n",
       "      <td>5</td>\n",
       "      <td>Kopa Maikudiri Dispensary</td>\n",
       "      <td>Partially Functional</td>\n",
       "      <td>Primary</td>\n",
       "      <td>Dispensary</td>\n",
       "      <td>2020-07-04T13:49:18</td>\n",
       "      <td>Askira Uba</td>\n",
       "      <td>Borno</td>\n",
       "      <td>POINT (972003.367 1192711.890)</td>\n",
       "    </tr>\n",
       "  </tbody>\n",
       "</table>\n",
       "</div>"
      ],
      "text/plain": [
       "   Population within 1000m radius  id                        name  \\\n",
       "0                           12730   1          G R A Nursing Home   \n",
       "1                           12910   2       Gishili Health Center   \n",
       "2                            1621   3  Lehobi Primary Health Care   \n",
       "3                           30499   4              Dugja Idp Camp   \n",
       "4                            1827   5   Kopa Maikudiri Dispensary   \n",
       "\n",
       "      functional_status     type               category            timestamp  \\\n",
       "0               Unknown  Primary  Primary Health Center  2020-07-04T13:49:18   \n",
       "1            Functional  Primary  Primary Health Center  2020-07-04T13:49:18   \n",
       "2  Partially Functional  Primary  Primary Health Center  2020-07-04T13:49:18   \n",
       "3        Not Functional  Primary  Primary Health Center  2020-07-04T13:49:18   \n",
       "4  Partially Functional  Primary             Dispensary  2020-07-04T13:49:18   \n",
       "\n",
       "     lga_name state_name                      geometry_y  \n",
       "0   Maiduguri      Borno  POINT (952240.436 1310264.751)  \n",
       "1   Maiduguri      Borno  POINT (952116.692 1310184.703)  \n",
       "2  Askira Uba      Borno  POINT (917601.224 1186179.501)  \n",
       "3         Biu      Borno  POINT (848184.257 1175216.864)  \n",
       "4  Askira Uba      Borno  POINT (972003.367 1192711.890)  "
      ]
     },
     "execution_count": 98,
     "metadata": {},
     "output_type": "execute_result"
    }
   ],
   "source": [
    "# Join the attribute of the clinic to the buffer created around it so as to be able to identify the buffer of each clinic\n",
    "pop_health_fc = buffer_.merge(reproj_facilities, on =\"id\")\n",
    "\n",
    "# drop unwanted columns\n",
    "pop_health_fc.drop(['global_id',  'alternate_name' ,\n",
    "       'ward_code', 'accessibility', 'lga_code', 'state_code','geometry_x'], axis = 1, inplace = True)\n",
    "pop_health_fc.head()"
   ]
  },
  {
   "cell_type": "code",
   "execution_count": 26,
   "metadata": {},
   "outputs": [
    {
     "data": {
      "text/html": [
       "<div>\n",
       "<style scoped>\n",
       "    .dataframe tbody tr th:only-of-type {\n",
       "        vertical-align: middle;\n",
       "    }\n",
       "\n",
       "    .dataframe tbody tr th {\n",
       "        vertical-align: top;\n",
       "    }\n",
       "\n",
       "    .dataframe thead th {\n",
       "        text-align: right;\n",
       "    }\n",
       "</style>\n",
       "<table border=\"1\" class=\"dataframe\">\n",
       "  <thead>\n",
       "    <tr style=\"text-align: right;\">\n",
       "      <th></th>\n",
       "      <th>name</th>\n",
       "      <th>functional_status</th>\n",
       "      <th>Population within 1000m radius</th>\n",
       "      <th>category</th>\n",
       "      <th>lga_name</th>\n",
       "    </tr>\n",
       "  </thead>\n",
       "  <tbody>\n",
       "    <tr>\n",
       "      <th>558</th>\n",
       "      <td>Yerwa Clinic</td>\n",
       "      <td>Functional</td>\n",
       "      <td>113583</td>\n",
       "      <td>Primary Health Center</td>\n",
       "      <td>Maiduguri</td>\n",
       "    </tr>\n",
       "    <tr>\n",
       "      <th>164</th>\n",
       "      <td>Bogum Dispensary</td>\n",
       "      <td>Functional</td>\n",
       "      <td>105842</td>\n",
       "      <td>Dispensary</td>\n",
       "      <td>Maiduguri</td>\n",
       "    </tr>\n",
       "    <tr>\n",
       "      <th>145</th>\n",
       "      <td>Shehus Palace Clinic</td>\n",
       "      <td>Functional</td>\n",
       "      <td>101138</td>\n",
       "      <td>Private Non Profit</td>\n",
       "      <td>Maiduguri</td>\n",
       "    </tr>\n",
       "    <tr>\n",
       "      <th>171</th>\n",
       "      <td>Fhi360 Clinic</td>\n",
       "      <td>Functional</td>\n",
       "      <td>92477</td>\n",
       "      <td>Private Non Profit</td>\n",
       "      <td>Maiduguri</td>\n",
       "    </tr>\n",
       "    <tr>\n",
       "      <th>676</th>\n",
       "      <td>Nana Kashim Clinic</td>\n",
       "      <td>Functional</td>\n",
       "      <td>91168</td>\n",
       "      <td>None</td>\n",
       "      <td>Maiduguri</td>\n",
       "    </tr>\n",
       "    <tr>\n",
       "      <th>97</th>\n",
       "      <td>Vital Registration Center Zanna Umarti</td>\n",
       "      <td>Functional</td>\n",
       "      <td>81598</td>\n",
       "      <td>Primary Health Center</td>\n",
       "      <td>Maiduguri</td>\n",
       "    </tr>\n",
       "    <tr>\n",
       "      <th>167</th>\n",
       "      <td>Unicef Clinic</td>\n",
       "      <td>Functional</td>\n",
       "      <td>76346</td>\n",
       "      <td>Private Non Profit</td>\n",
       "      <td>Maiduguri</td>\n",
       "    </tr>\n",
       "    <tr>\n",
       "      <th>243</th>\n",
       "      <td>Gamboru Clinic</td>\n",
       "      <td>Functional</td>\n",
       "      <td>75813</td>\n",
       "      <td>Primary Health Center</td>\n",
       "      <td>Maiduguri</td>\n",
       "    </tr>\n",
       "    <tr>\n",
       "      <th>645</th>\n",
       "      <td>Bulabulin Dispensary</td>\n",
       "      <td>Functional</td>\n",
       "      <td>70912</td>\n",
       "      <td>Dispensary</td>\n",
       "      <td>Maiduguri</td>\n",
       "    </tr>\n",
       "    <tr>\n",
       "      <th>509</th>\n",
       "      <td>Gambaru Clinic</td>\n",
       "      <td>Functional</td>\n",
       "      <td>70658</td>\n",
       "      <td>Primary Health Center</td>\n",
       "      <td>Maiduguri</td>\n",
       "    </tr>\n",
       "    <tr>\n",
       "      <th>874</th>\n",
       "      <td>Zannari Primary Health Care</td>\n",
       "      <td>Functional</td>\n",
       "      <td>67245</td>\n",
       "      <td>Primary Health Center</td>\n",
       "      <td>Mafa</td>\n",
       "    </tr>\n",
       "    <tr>\n",
       "      <th>226</th>\n",
       "      <td>University Of Maiduguri Teaching Hospital Umth</td>\n",
       "      <td>Functional</td>\n",
       "      <td>66474</td>\n",
       "      <td>Primary Health Center</td>\n",
       "      <td>Jere</td>\n",
       "    </tr>\n",
       "    <tr>\n",
       "      <th>654</th>\n",
       "      <td>Mogcolis Camp Clinic</td>\n",
       "      <td>Functional</td>\n",
       "      <td>66241</td>\n",
       "      <td>Private Non Profit</td>\n",
       "      <td>Maiduguri</td>\n",
       "    </tr>\n",
       "    <tr>\n",
       "      <th>380</th>\n",
       "      <td>City Hospital</td>\n",
       "      <td>Functional</td>\n",
       "      <td>65797</td>\n",
       "      <td>Primary Health Center</td>\n",
       "      <td>Maiduguri</td>\n",
       "    </tr>\n",
       "    <tr>\n",
       "      <th>147</th>\n",
       "      <td>Zajeri Clinic</td>\n",
       "      <td>Functional</td>\n",
       "      <td>63312</td>\n",
       "      <td>Private Non Profit</td>\n",
       "      <td>Maiduguri</td>\n",
       "    </tr>\n",
       "    <tr>\n",
       "      <th>382</th>\n",
       "      <td>State Psychatric Hospital</td>\n",
       "      <td>Functional</td>\n",
       "      <td>61865</td>\n",
       "      <td>Specialist Hospital</td>\n",
       "      <td>Maiduguri</td>\n",
       "    </tr>\n",
       "    <tr>\n",
       "      <th>859</th>\n",
       "      <td>Gwange Dispensary</td>\n",
       "      <td>Functional</td>\n",
       "      <td>61064</td>\n",
       "      <td>Dispensary</td>\n",
       "      <td>Maiduguri</td>\n",
       "    </tr>\n",
       "    <tr>\n",
       "      <th>711</th>\n",
       "      <td>Gamboru Male Health Post</td>\n",
       "      <td>Functional</td>\n",
       "      <td>60761</td>\n",
       "      <td>Dispensary</td>\n",
       "      <td>Maiduguri</td>\n",
       "    </tr>\n",
       "    <tr>\n",
       "      <th>251</th>\n",
       "      <td>Gwange Maternal and Child Health Clinic</td>\n",
       "      <td>Functional</td>\n",
       "      <td>60635</td>\n",
       "      <td>Primary Health Center</td>\n",
       "      <td>Maiduguri</td>\n",
       "    </tr>\n",
       "    <tr>\n",
       "      <th>165</th>\n",
       "      <td>Lawan House Health Center</td>\n",
       "      <td>Functional</td>\n",
       "      <td>60581</td>\n",
       "      <td>Primary Health Center</td>\n",
       "      <td>Maiduguri</td>\n",
       "    </tr>\n",
       "  </tbody>\n",
       "</table>\n",
       "</div>"
      ],
      "text/plain": [
       "                                               name functional_status  \\\n",
       "558                                    Yerwa Clinic        Functional   \n",
       "164                                Bogum Dispensary        Functional   \n",
       "145                            Shehus Palace Clinic        Functional   \n",
       "171                                   Fhi360 Clinic        Functional   \n",
       "676                              Nana Kashim Clinic        Functional   \n",
       "97           Vital Registration Center Zanna Umarti        Functional   \n",
       "167                                   Unicef Clinic        Functional   \n",
       "243                                  Gamboru Clinic        Functional   \n",
       "645                            Bulabulin Dispensary        Functional   \n",
       "509                                  Gambaru Clinic        Functional   \n",
       "874                     Zannari Primary Health Care        Functional   \n",
       "226  University Of Maiduguri Teaching Hospital Umth        Functional   \n",
       "654                            Mogcolis Camp Clinic        Functional   \n",
       "380                                   City Hospital        Functional   \n",
       "147                                   Zajeri Clinic        Functional   \n",
       "382                       State Psychatric Hospital        Functional   \n",
       "859                               Gwange Dispensary        Functional   \n",
       "711                        Gamboru Male Health Post        Functional   \n",
       "251         Gwange Maternal and Child Health Clinic        Functional   \n",
       "165                       Lawan House Health Center        Functional   \n",
       "\n",
       "     Population within 1000m radius               category   lga_name  \n",
       "558                          113583  Primary Health Center  Maiduguri  \n",
       "164                          105842             Dispensary  Maiduguri  \n",
       "145                          101138     Private Non Profit  Maiduguri  \n",
       "171                           92477     Private Non Profit  Maiduguri  \n",
       "676                           91168                   None  Maiduguri  \n",
       "97                            81598  Primary Health Center  Maiduguri  \n",
       "167                           76346     Private Non Profit  Maiduguri  \n",
       "243                           75813  Primary Health Center  Maiduguri  \n",
       "645                           70912             Dispensary  Maiduguri  \n",
       "509                           70658  Primary Health Center  Maiduguri  \n",
       "874                           67245  Primary Health Center       Mafa  \n",
       "226                           66474  Primary Health Center       Jere  \n",
       "654                           66241     Private Non Profit  Maiduguri  \n",
       "380                           65797  Primary Health Center  Maiduguri  \n",
       "147                           63312     Private Non Profit  Maiduguri  \n",
       "382                           61865    Specialist Hospital  Maiduguri  \n",
       "859                           61064             Dispensary  Maiduguri  \n",
       "711                           60761             Dispensary  Maiduguri  \n",
       "251                           60635  Primary Health Center  Maiduguri  \n",
       "165                           60581  Primary Health Center  Maiduguri  "
      ]
     },
     "execution_count": 26,
     "metadata": {},
     "output_type": "execute_result"
    }
   ],
   "source": [
    "# Top 20 health facilities withinn 1000m radium of highly populated area\n",
    "top_20 = pop_health_fc[[\"name\", 'functional_status',\"Population within 1000m radius\",\n",
    "                        \"category\",\"lga_name\"]].nlargest(20,\"Population within 1000m radius\")\n",
    "top_20"
   ]
  },
  {
   "cell_type": "code",
   "execution_count": 30,
   "metadata": {},
   "outputs": [
    {
     "data": {
      "image/png": "[encoded data removed]",
      "text/plain": [
       "<Figure size 432x288 with 1 Axes>"
      ]
     },
     "metadata": {
      "needs_background": "light"
     },
     "output_type": "display_data"
    }
   ],
   "source": [
    "# Top 5 health facilities withinn 1000m radium of highly populated area\n",
    "top_5 = pop_health_fc[[\"name\", 'functional_status',\"Population within 1000m radius\",\"category\",\"lga_name\"]].nlargest(5,\"Population within 1000m radius\")\n",
    "ax = sns.barplot(data=top_5,y=\"name\",x=\"Population within 1000m radius\", orient='h' );\n",
    "ax.tick_params(axis='x', rotation=90)\n",
    "ax.set(title =\"Top Health Facilities that covers more population residing within 1000m radius\");"
   ]
  },
  {
   "cell_type": "code",
   "execution_count": 31,
   "metadata": {},
   "outputs": [
    {
     "data": {
      "text/html": [
       "<div>\n",
       "<style scoped>\n",
       "    .dataframe tbody tr th:only-of-type {\n",
       "        vertical-align: middle;\n",
       "    }\n",
       "\n",
       "    .dataframe tbody tr th {\n",
       "        vertical-align: top;\n",
       "    }\n",
       "\n",
       "    .dataframe thead th {\n",
       "        text-align: right;\n",
       "    }\n",
       "</style>\n",
       "<table border=\"1\" class=\"dataframe\">\n",
       "  <thead>\n",
       "    <tr style=\"text-align: right;\">\n",
       "      <th></th>\n",
       "      <th>name</th>\n",
       "      <th>functional_status</th>\n",
       "      <th>Population within 1000m radius</th>\n",
       "      <th>category</th>\n",
       "      <th>lga_name</th>\n",
       "    </tr>\n",
       "  </thead>\n",
       "  <tbody>\n",
       "    <tr>\n",
       "      <th>177</th>\n",
       "      <td>Jere Dispensary</td>\n",
       "      <td>Functional</td>\n",
       "      <td>0</td>\n",
       "      <td>Dispensary</td>\n",
       "      <td>Bama</td>\n",
       "    </tr>\n",
       "    <tr>\n",
       "      <th>205</th>\n",
       "      <td>Ngabu Dispensary</td>\n",
       "      <td>Unknown</td>\n",
       "      <td>0</td>\n",
       "      <td>Dispensary</td>\n",
       "      <td>Marte</td>\n",
       "    </tr>\n",
       "    <tr>\n",
       "      <th>221</th>\n",
       "      <td>Dabar Masara Health Clinic</td>\n",
       "      <td>Not Functional</td>\n",
       "      <td>0</td>\n",
       "      <td>None</td>\n",
       "      <td>Kukawa</td>\n",
       "    </tr>\n",
       "    <tr>\n",
       "      <th>223</th>\n",
       "      <td>Dipchari Dispensary</td>\n",
       "      <td>Not Functional</td>\n",
       "      <td>0</td>\n",
       "      <td>Primary Health Center</td>\n",
       "      <td>Bama</td>\n",
       "    </tr>\n",
       "    <tr>\n",
       "      <th>359</th>\n",
       "      <td>Alhajiri Primary Health Clinic</td>\n",
       "      <td>Unknown</td>\n",
       "      <td>0</td>\n",
       "      <td>Primary Health Center</td>\n",
       "      <td>Konduga</td>\n",
       "    </tr>\n",
       "    <tr>\n",
       "      <th>419</th>\n",
       "      <td>Mukhtari Health Clinic</td>\n",
       "      <td>Unknown</td>\n",
       "      <td>0</td>\n",
       "      <td>Primary Health Center</td>\n",
       "      <td>Mafa</td>\n",
       "    </tr>\n",
       "    <tr>\n",
       "      <th>502</th>\n",
       "      <td>Jewu Primary Health Clinic</td>\n",
       "      <td>Functional</td>\n",
       "      <td>0</td>\n",
       "      <td>Primary Health Center</td>\n",
       "      <td>Konduga</td>\n",
       "    </tr>\n",
       "    <tr>\n",
       "      <th>179</th>\n",
       "      <td>Briyel Maternal and Child Health</td>\n",
       "      <td>Unknown</td>\n",
       "      <td>2</td>\n",
       "      <td>Primary Health Center</td>\n",
       "      <td>Bama</td>\n",
       "    </tr>\n",
       "    <tr>\n",
       "      <th>458</th>\n",
       "      <td>Jebra Health Center</td>\n",
       "      <td>Unknown</td>\n",
       "      <td>2</td>\n",
       "      <td>Primary Health Center</td>\n",
       "      <td>Bama</td>\n",
       "    </tr>\n",
       "    <tr>\n",
       "      <th>412</th>\n",
       "      <td>Mairami Health Clinic</td>\n",
       "      <td>Functional</td>\n",
       "      <td>4</td>\n",
       "      <td>Primary Health Center</td>\n",
       "      <td>Konduga</td>\n",
       "    </tr>\n",
       "    <tr>\n",
       "      <th>219</th>\n",
       "      <td>Cocin Clinic Jebra</td>\n",
       "      <td>Unknown</td>\n",
       "      <td>5</td>\n",
       "      <td>Private Non Profit</td>\n",
       "      <td>Bama</td>\n",
       "    </tr>\n",
       "    <tr>\n",
       "      <th>411</th>\n",
       "      <td>Maidurmari Health Clinic</td>\n",
       "      <td>Functional</td>\n",
       "      <td>8</td>\n",
       "      <td>Primary Health Center</td>\n",
       "      <td>Konduga</td>\n",
       "    </tr>\n",
       "    <tr>\n",
       "      <th>268</th>\n",
       "      <td>Dzakwa Health Post</td>\n",
       "      <td>Unknown</td>\n",
       "      <td>11</td>\n",
       "      <td>Dispensary</td>\n",
       "      <td>Askira Uba</td>\n",
       "    </tr>\n",
       "    <tr>\n",
       "      <th>508</th>\n",
       "      <td>Tuba Lawanti Health Post</td>\n",
       "      <td>Functional</td>\n",
       "      <td>11</td>\n",
       "      <td>Dispensary</td>\n",
       "      <td>Jere</td>\n",
       "    </tr>\n",
       "    <tr>\n",
       "      <th>519</th>\n",
       "      <td>Arnari Health Clinic</td>\n",
       "      <td>Functional</td>\n",
       "      <td>11</td>\n",
       "      <td>Primary Health Center</td>\n",
       "      <td>Konduga</td>\n",
       "    </tr>\n",
       "    <tr>\n",
       "      <th>651</th>\n",
       "      <td>Tuba Dispensary</td>\n",
       "      <td>Functional</td>\n",
       "      <td>11</td>\n",
       "      <td>Dispensary</td>\n",
       "      <td>Jere</td>\n",
       "    </tr>\n",
       "    <tr>\n",
       "      <th>416</th>\n",
       "      <td>Kashimri Health Clinic</td>\n",
       "      <td>Functional</td>\n",
       "      <td>13</td>\n",
       "      <td>Primary Health Center</td>\n",
       "      <td>Konduga</td>\n",
       "    </tr>\n",
       "    <tr>\n",
       "      <th>393</th>\n",
       "      <td>Mbuta Clinic</td>\n",
       "      <td>Functional</td>\n",
       "      <td>15</td>\n",
       "      <td>Primary Health Center</td>\n",
       "      <td>Mafa</td>\n",
       "    </tr>\n",
       "    <tr>\n",
       "      <th>396</th>\n",
       "      <td>Masu Clinic</td>\n",
       "      <td>Functional</td>\n",
       "      <td>15</td>\n",
       "      <td>Primary Health Center</td>\n",
       "      <td>Mafa</td>\n",
       "    </tr>\n",
       "    <tr>\n",
       "      <th>424</th>\n",
       "      <td>Ngalimari Health Clinic</td>\n",
       "      <td>Functional</td>\n",
       "      <td>15</td>\n",
       "      <td>Primary Health Center</td>\n",
       "      <td>Konduga</td>\n",
       "    </tr>\n",
       "  </tbody>\n",
       "</table>\n",
       "</div>"
      ],
      "text/plain": [
       "                                 name functional_status  \\\n",
       "177                   Jere Dispensary        Functional   \n",
       "205                  Ngabu Dispensary           Unknown   \n",
       "221        Dabar Masara Health Clinic    Not Functional   \n",
       "223               Dipchari Dispensary    Not Functional   \n",
       "359    Alhajiri Primary Health Clinic           Unknown   \n",
       "419            Mukhtari Health Clinic           Unknown   \n",
       "502        Jewu Primary Health Clinic        Functional   \n",
       "179  Briyel Maternal and Child Health           Unknown   \n",
       "458               Jebra Health Center           Unknown   \n",
       "412             Mairami Health Clinic        Functional   \n",
       "219                Cocin Clinic Jebra           Unknown   \n",
       "411          Maidurmari Health Clinic        Functional   \n",
       "268                Dzakwa Health Post           Unknown   \n",
       "508          Tuba Lawanti Health Post        Functional   \n",
       "519              Arnari Health Clinic        Functional   \n",
       "651                   Tuba Dispensary        Functional   \n",
       "416            Kashimri Health Clinic        Functional   \n",
       "393                      Mbuta Clinic        Functional   \n",
       "396                       Masu Clinic        Functional   \n",
       "424           Ngalimari Health Clinic        Functional   \n",
       "\n",
       "     Population within 1000m radius               category    lga_name  \n",
       "177                               0             Dispensary        Bama  \n",
       "205                               0             Dispensary       Marte  \n",
       "221                               0                   None      Kukawa  \n",
       "223                               0  Primary Health Center        Bama  \n",
       "359                               0  Primary Health Center     Konduga  \n",
       "419                               0  Primary Health Center        Mafa  \n",
       "502                               0  Primary Health Center     Konduga  \n",
       "179                               2  Primary Health Center        Bama  \n",
       "458                               2  Primary Health Center        Bama  \n",
       "412                               4  Primary Health Center     Konduga  \n",
       "219                               5     Private Non Profit        Bama  \n",
       "411                               8  Primary Health Center     Konduga  \n",
       "268                              11             Dispensary  Askira Uba  \n",
       "508                              11             Dispensary        Jere  \n",
       "519                              11  Primary Health Center     Konduga  \n",
       "651                              11             Dispensary        Jere  \n",
       "416                              13  Primary Health Center     Konduga  \n",
       "393                              15  Primary Health Center        Mafa  \n",
       "396                              15  Primary Health Center        Mafa  \n",
       "424                              15  Primary Health Center     Konduga  "
      ]
     },
     "execution_count": 31,
     "metadata": {},
     "output_type": "execute_result"
    }
   ],
   "source": [
    "# 20 health facilities that covers the lowest population within 100m\n",
    "lowest_20 = pop_health_fc[[\"name\", 'functional_status',\"Population within 1000m radius\",\n",
    "                           \"category\",\"lga_name\"]].nsmallest(20,\"Population within 1000m radius\")\n",
    "lowest_20"
   ]
  },
  {
   "cell_type": "markdown",
   "metadata": {},
   "source": []
  },
  {
   "cell_type": "markdown",
   "metadata": {},
   "source": [
    "Ater uisng the 500m radius buffer to extract the count of population within 500m radius of each facilities, it was noted that some faciltiites have zero population around it which seems imposiiblle, to vertify this we overlaid our health facilities data on a high resolution imagery, from there we were able to see that the points wiht zero population are invalid because the points fall on forest area and faarm lands.\n",
    "\n",
    "we will remove all the non-existing\\invalid points from the data that will be used for the suitablity and health facilities assesment"
   ]
  },
  {
   "cell_type": "code",
   "execution_count": 46,
   "metadata": {},
   "outputs": [],
   "source": [
    "def validate_facilities(facilities, threshold):\n",
    "    facilities[\"Status\"] = facilities[\"Population within 1000m radius\"].apply(lambda x: \"Valid\" if x > threshold else \"Invalid\")\n",
    "    return facilities\n",
    "\n",
    "\n",
    "health_validation = validate_facilities(pop_health_fc,100)"
   ]
  },
  {
   "cell_type": "code",
   "execution_count": 99,
   "metadata": {
    "scrolled": true
   },
   "outputs": [
    {
     "data": {
      "text/plain": [
       "832"
      ]
     },
     "execution_count": 99,
     "metadata": {},
     "output_type": "execute_result"
    }
   ],
   "source": [
    "# total number of valid facilitites based\n",
    "len (health_validation[health_validation.Status == \"Valid\"])"
   ]
  },
  {
   "cell_type": "code",
   "execution_count": 100,
   "metadata": {},
   "outputs": [
    {
     "data": {
      "text/plain": [
       "52"
      ]
     },
     "execution_count": 100,
     "metadata": {},
     "output_type": "execute_result"
    }
   ],
   "source": [
    "# total number of invalid facilitites based\n",
    "len (health_validation[health_validation.Status == \"Invalid\"])"
   ]
  },
  {
   "cell_type": "code",
   "execution_count": 101,
   "metadata": {},
   "outputs": [
    {
     "data": {
      "text/html": [
       "<div>\n",
       "<style scoped>\n",
       "    .dataframe tbody tr th:only-of-type {\n",
       "        vertical-align: middle;\n",
       "    }\n",
       "\n",
       "    .dataframe tbody tr th {\n",
       "        vertical-align: top;\n",
       "    }\n",
       "\n",
       "    .dataframe thead th {\n",
       "        text-align: right;\n",
       "    }\n",
       "</style>\n",
       "<table border=\"1\" class=\"dataframe\">\n",
       "  <thead>\n",
       "    <tr style=\"text-align: right;\">\n",
       "      <th></th>\n",
       "      <th></th>\n",
       "      <th></th>\n",
       "      <th>Population within 1000m radius</th>\n",
       "      <th>id</th>\n",
       "    </tr>\n",
       "    <tr>\n",
       "      <th>Status</th>\n",
       "      <th>name</th>\n",
       "      <th>lga_name</th>\n",
       "      <th></th>\n",
       "      <th></th>\n",
       "    </tr>\n",
       "  </thead>\n",
       "  <tbody>\n",
       "    <tr>\n",
       "      <th rowspan=\"5\" valign=\"top\">Invalid</th>\n",
       "      <th>777 Estate Clinic</th>\n",
       "      <th>Kala Balge</th>\n",
       "      <td>20</td>\n",
       "      <td>210</td>\n",
       "    </tr>\n",
       "    <tr>\n",
       "      <th>Abduri Primary Health Clinic</th>\n",
       "      <th>Mafa</th>\n",
       "      <td>22</td>\n",
       "      <td>405</td>\n",
       "    </tr>\n",
       "    <tr>\n",
       "      <th>Ackome Polytechnic Clinic</th>\n",
       "      <th>Kukawa</th>\n",
       "      <td>70</td>\n",
       "      <td>118</td>\n",
       "    </tr>\n",
       "    <tr>\n",
       "      <th>Ajiri Health Clinic</th>\n",
       "      <th>Konduga</th>\n",
       "      <td>25</td>\n",
       "      <td>373</td>\n",
       "    </tr>\n",
       "    <tr>\n",
       "      <th>Alhajiri Primary Health Clinic</th>\n",
       "      <th>Konduga</th>\n",
       "      <td>0</td>\n",
       "      <td>360</td>\n",
       "    </tr>\n",
       "    <tr>\n",
       "      <th>...</th>\n",
       "      <th>...</th>\n",
       "      <th>...</th>\n",
       "      <td>...</td>\n",
       "      <td>...</td>\n",
       "    </tr>\n",
       "    <tr>\n",
       "      <th rowspan=\"5\" valign=\"top\">Valid</th>\n",
       "      <th>Zari Health Clinic</th>\n",
       "      <th>Mobbar</th>\n",
       "      <td>682</td>\n",
       "      <td>576</td>\n",
       "    </tr>\n",
       "    <tr>\n",
       "      <th>Zengebe Dispensry</th>\n",
       "      <th>Mafa</th>\n",
       "      <td>751</td>\n",
       "      <td>528</td>\n",
       "    </tr>\n",
       "    <tr>\n",
       "      <th>Zonal Health Office</th>\n",
       "      <th>Maiduguri</th>\n",
       "      <td>44031</td>\n",
       "      <td>238</td>\n",
       "    </tr>\n",
       "    <tr>\n",
       "      <th>Zowo Model Health Center</th>\n",
       "      <th>Gubio</th>\n",
       "      <td>630</td>\n",
       "      <td>561</td>\n",
       "    </tr>\n",
       "    <tr>\n",
       "      <th>Zuma Kumogun Dispensary</th>\n",
       "      <th>Nganzai</th>\n",
       "      <td>461</td>\n",
       "      <td>404</td>\n",
       "    </tr>\n",
       "  </tbody>\n",
       "</table>\n",
       "<p>878 rows × 2 columns</p>\n",
       "</div>"
      ],
      "text/plain": [
       "                                                   Population within 1000m radius  \\\n",
       "Status  name                           lga_name                                     \n",
       "Invalid 777 Estate Clinic              Kala Balge                              20   \n",
       "        Abduri Primary Health Clinic   Mafa                                    22   \n",
       "        Ackome Polytechnic Clinic      Kukawa                                  70   \n",
       "        Ajiri Health Clinic            Konduga                                 25   \n",
       "        Alhajiri Primary Health Clinic Konduga                                  0   \n",
       "...                                                                           ...   \n",
       "Valid   Zari Health Clinic             Mobbar                                 682   \n",
       "        Zengebe Dispensry              Mafa                                   751   \n",
       "        Zonal Health Office            Maiduguri                            44031   \n",
       "        Zowo Model Health Center       Gubio                                  630   \n",
       "        Zuma Kumogun Dispensary        Nganzai                                461   \n",
       "\n",
       "                                                    id  \n",
       "Status  name                           lga_name         \n",
       "Invalid 777 Estate Clinic              Kala Balge  210  \n",
       "        Abduri Primary Health Clinic   Mafa        405  \n",
       "        Ackome Polytechnic Clinic      Kukawa      118  \n",
       "        Ajiri Health Clinic            Konduga     373  \n",
       "        Alhajiri Primary Health Clinic Konduga     360  \n",
       "...                                                ...  \n",
       "Valid   Zari Health Clinic             Mobbar      576  \n",
       "        Zengebe Dispensry              Mafa        528  \n",
       "        Zonal Health Office            Maiduguri   238  \n",
       "        Zowo Model Health Center       Gubio       561  \n",
       "        Zuma Kumogun Dispensary        Nganzai     404  \n",
       "\n",
       "[878 rows x 2 columns]"
      ]
     },
     "execution_count": 101,
     "metadata": {},
     "output_type": "execute_result"
    }
   ],
   "source": [
    "health_validation.groupby(by = ['Status','name',\"lga_name\"]).sum()"
   ]
  },
  {
   "cell_type": "code",
   "execution_count": 102,
   "metadata": {},
   "outputs": [
    {
     "data": {
      "text/html": [
       "<div>\n",
       "<style scoped>\n",
       "    .dataframe tbody tr th:only-of-type {\n",
       "        vertical-align: middle;\n",
       "    }\n",
       "\n",
       "    .dataframe tbody tr th {\n",
       "        vertical-align: top;\n",
       "    }\n",
       "\n",
       "    .dataframe thead th {\n",
       "        text-align: right;\n",
       "    }\n",
       "</style>\n",
       "<table border=\"1\" class=\"dataframe\">\n",
       "  <thead>\n",
       "    <tr style=\"text-align: right;\">\n",
       "      <th></th>\n",
       "      <th>OBJECTID</th>\n",
       "      <th>LGACode</th>\n",
       "      <th>LGAName</th>\n",
       "      <th>StateCode</th>\n",
       "      <th>Timestamp</th>\n",
       "      <th>GlobalID</th>\n",
       "      <th>AMAPCODE</th>\n",
       "      <th>LGA_PCODE</th>\n",
       "      <th>State_PCod</th>\n",
       "      <th>Source</th>\n",
       "      <th>Alt_LGANam</th>\n",
       "      <th>SHAPE_Leng</th>\n",
       "      <th>SHAPE_Area</th>\n",
       "      <th>geometry</th>\n",
       "    </tr>\n",
       "  </thead>\n",
       "  <tbody>\n",
       "    <tr>\n",
       "      <th>0</th>\n",
       "      <td>1.0</td>\n",
       "      <td>102</td>\n",
       "      <td>Askira-Uba</td>\n",
       "      <td>BR</td>\n",
       "      <td>2015/09/30 08:44:38.000</td>\n",
       "      <td>{C4176F0A-C0C0-4304-81DE-1F4FCB8EF6C8}</td>\n",
       "      <td>NIE BOS ASU</td>\n",
       "      <td>NGA008002</td>\n",
       "      <td>NGA008</td>\n",
       "      <td>eHA-STAFF</td>\n",
       "      <td>Askira / Uba</td>\n",
       "      <td>3.061810</td>\n",
       "      <td>0.240370</td>\n",
       "      <td>POLYGON ((13.27451 10.88961, 13.28385 10.87861...</td>\n",
       "    </tr>\n",
       "    <tr>\n",
       "      <th>1</th>\n",
       "      <td>2.0</td>\n",
       "      <td>103</td>\n",
       "      <td>Bama</td>\n",
       "      <td>BR</td>\n",
       "      <td>2015/08/08 11:30:41.000</td>\n",
       "      <td>{E8BC1CEB-857C-4421-ADC6-542C2FC34A02}</td>\n",
       "      <td>NIE BOS BAM</td>\n",
       "      <td>NGA008003</td>\n",
       "      <td>NGA008</td>\n",
       "      <td>eHA-STAFF</td>\n",
       "      <td>Bama</td>\n",
       "      <td>2.675484</td>\n",
       "      <td>0.321993</td>\n",
       "      <td>POLYGON ((14.26499 11.78649, 14.25146 11.71317...</td>\n",
       "    </tr>\n",
       "    <tr>\n",
       "      <th>2</th>\n",
       "      <td>3.0</td>\n",
       "      <td>104</td>\n",
       "      <td>Bayo</td>\n",
       "      <td>BR</td>\n",
       "      <td>2016/08/19 11:26:02.000</td>\n",
       "      <td>{4BDDF4FB-84CF-40E4-8451-46C4BA505A98}</td>\n",
       "      <td>NIE BOS BAY</td>\n",
       "      <td>NGA008004</td>\n",
       "      <td>NGA008</td>\n",
       "      <td>eHA-STAFF</td>\n",
       "      <td>Bayo</td>\n",
       "      <td>1.943713</td>\n",
       "      <td>0.093129</td>\n",
       "      <td>POLYGON ((11.83490 10.66101, 11.83054 10.66030...</td>\n",
       "    </tr>\n",
       "    <tr>\n",
       "      <th>3</th>\n",
       "      <td>4.0</td>\n",
       "      <td>105</td>\n",
       "      <td>Biu</td>\n",
       "      <td>BR</td>\n",
       "      <td>2016/08/19 11:26:02.000</td>\n",
       "      <td>{272A8E9C-BB9F-45D9-B726-BD44D96D7AE9}</td>\n",
       "      <td>NIE BOS BBU</td>\n",
       "      <td>NGA008005</td>\n",
       "      <td>NGA008</td>\n",
       "      <td>eHA-STAFF</td>\n",
       "      <td>Biu</td>\n",
       "      <td>2.889217</td>\n",
       "      <td>0.261148</td>\n",
       "      <td>POLYGON ((12.15308 11.11954, 12.31448 11.02199...</td>\n",
       "    </tr>\n",
       "    <tr>\n",
       "      <th>4</th>\n",
       "      <td>5.0</td>\n",
       "      <td>106</td>\n",
       "      <td>Chibok</td>\n",
       "      <td>BR</td>\n",
       "      <td>2015/09/30 08:44:38.000</td>\n",
       "      <td>{9DECBEA8-D569-47A9-B61F-38A241E1EF4D}</td>\n",
       "      <td>NIE BOS CBK</td>\n",
       "      <td>NGA008006</td>\n",
       "      <td>NGA008</td>\n",
       "      <td>eHA-STAFF</td>\n",
       "      <td>Chibok</td>\n",
       "      <td>1.478003</td>\n",
       "      <td>0.116826</td>\n",
       "      <td>POLYGON ((12.82828 10.96355, 12.82828 10.96355...</td>\n",
       "    </tr>\n",
       "  </tbody>\n",
       "</table>\n",
       "</div>"
      ],
      "text/plain": [
       "   OBJECTID LGACode     LGAName StateCode                Timestamp  \\\n",
       "0       1.0     102  Askira-Uba        BR  2015/09/30 08:44:38.000   \n",
       "1       2.0     103        Bama        BR  2015/08/08 11:30:41.000   \n",
       "2       3.0     104        Bayo        BR  2016/08/19 11:26:02.000   \n",
       "3       4.0     105         Biu        BR  2016/08/19 11:26:02.000   \n",
       "4       5.0     106      Chibok        BR  2015/09/30 08:44:38.000   \n",
       "\n",
       "                                 GlobalID     AMAPCODE  LGA_PCODE State_PCod  \\\n",
       "0  {C4176F0A-C0C0-4304-81DE-1F4FCB8EF6C8}  NIE BOS ASU  NGA008002     NGA008   \n",
       "1  {E8BC1CEB-857C-4421-ADC6-542C2FC34A02}  NIE BOS BAM  NGA008003     NGA008   \n",
       "2  {4BDDF4FB-84CF-40E4-8451-46C4BA505A98}  NIE BOS BAY  NGA008004     NGA008   \n",
       "3  {272A8E9C-BB9F-45D9-B726-BD44D96D7AE9}  NIE BOS BBU  NGA008005     NGA008   \n",
       "4  {9DECBEA8-D569-47A9-B61F-38A241E1EF4D}  NIE BOS CBK  NGA008006     NGA008   \n",
       "\n",
       "      Source    Alt_LGANam  SHAPE_Leng  SHAPE_Area  \\\n",
       "0  eHA-STAFF  Askira / Uba    3.061810    0.240370   \n",
       "1  eHA-STAFF          Bama    2.675484    0.321993   \n",
       "2  eHA-STAFF          Bayo    1.943713    0.093129   \n",
       "3  eHA-STAFF           Biu    2.889217    0.261148   \n",
       "4  eHA-STAFF        Chibok    1.478003    0.116826   \n",
       "\n",
       "                                            geometry  \n",
       "0  POLYGON ((13.27451 10.88961, 13.28385 10.87861...  \n",
       "1  POLYGON ((14.26499 11.78649, 14.25146 11.71317...  \n",
       "2  POLYGON ((11.83490 10.66101, 11.83054 10.66030...  \n",
       "3  POLYGON ((12.15308 11.11954, 12.31448 11.02199...  \n",
       "4  POLYGON ((12.82828 10.96355, 12.82828 10.96355...  "
      ]
     },
     "execution_count": 102,
     "metadata": {},
     "output_type": "execute_result"
    }
   ],
   "source": [
    "borno_lga.head()"
   ]
  },
  {
   "cell_type": "code",
   "execution_count": null,
   "metadata": {},
   "outputs": [],
   "source": [
    "# Set the CRS for the GeoDataFrame\n",
    "health_gdf = gpd.GeoDataFrame(health_validation, geometry='geometry')\n",
    "health_gdf.crs = 32632 # Replace 'your_current_crs' with the CRS of your original data\n",
    "\n",
    "# Convert the CRS\n",
    "health_gdf = health_gdf.to_crs(epsg=4326)"
   ]
  },
  {
   "cell_type": "code",
   "execution_count": 92,
   "metadata": {},
   "outputs": [],
   "source": [
    "# Perform spatial join between Borno LGA and validated health facilities\n",
    "borno_lga_with_facilities = gpd.sjoin(borno_lga, health_gdf, how='left', op='intersects')\n",
    "borno_lga_with_facilities.head()\n",
    "# group by 'Status' and 'lga_name' and calculate the count\n",
    "# grouped_facilities = borno_lga_with_facilities.groupby(['Status', 'lga_name']).size().reset_index(name='Count')\n",
    "# grouped_facilities.head()\n",
    "# # merge grouped data with Borno LGA data\n",
    "# borno_lga_merged = borno_lga.merge(grouped_facilities, on='LGACode', how='left')\n",
    "# borno_lga_merged.plot()"
   ]
  },
  {
   "cell_type": "code",
   "execution_count": 105,
   "metadata": {},
   "outputs": [],
   "source": []
  },
  {
   "cell_type": "code",
   "execution_count": 82,
   "metadata": {},
   "outputs": [
    {
     "data": {
      "text/plain": [
       "<Geographic 2D CRS: EPSG:4326>\n",
       "Name: WGS 84\n",
       "Axis Info [ellipsoidal]:\n",
       "- Lat[north]: Geodetic latitude (degree)\n",
       "- Lon[east]: Geodetic longitude (degree)\n",
       "Area of Use:\n",
       "- name: World.\n",
       "- bounds: (-180.0, -90.0, 180.0, 90.0)\n",
       "Datum: World Geodetic System 1984 ensemble\n",
       "- Ellipsoid: WGS 84\n",
       "- Prime Meridian: Greenwich"
      ]
     },
     "execution_count": 82,
     "metadata": {},
     "output_type": "execute_result"
    }
   ],
   "source": [
    "borno_lga_with_facilities = gpd.sjoin(borno_lga, health_gdf, how='left', op='intersects')\n",
    "borno_lga_with_facilities.crs"
   ]
  },
  {
   "cell_type": "code",
   "execution_count": null,
   "metadata": {},
   "outputs": [],
   "source": [
    "# compute the poulation within each lga\n",
    "lga_pop = zonal_stat(raster,borno_lga)\n",
    "borno_lga[\"population\"] = lga_pop\n",
    "borno_lga.head()"
   ]
  },
  {
   "cell_type": "code",
   "execution_count": null,
   "metadata": {},
   "outputs": [],
   "source": [
    "borno_lga.plot('population',scheme='NaturalBreaks',\n",
    "              legend =True, figsize=(10,8))"
   ]
  },
  {
   "cell_type": "code",
   "execution_count": null,
   "metadata": {},
   "outputs": [],
   "source": []
  },
  {
   "cell_type": "markdown",
   "metadata": {},
   "source": [
    "## Data Category: Hospitality"
   ]
  },
  {
   "cell_type": "markdown",
   "metadata": {},
   "source": []
  }
 ],
 "metadata": {
  "esriNotebookRuntime": {
   "notebookRuntimeName": "ArcGIS Notebook Python 3 Standard",
   "notebookRuntimeVersion": "7.0"
  },
  "kernelspec": {
   "display_name": "Python 3 (ipykernel)",
   "language": "python",
   "name": "python3"
  },
  "language_info": {
   "codemirror_mode": {
    "name": "ipython",
    "version": 3
   },
   "file_extension": ".py",
   "mimetype": "text/x-python",
   "name": "python",
   "nbconvert_exporter": "python",
   "pygments_lexer": "ipython3",
   "version": "3.7.0"
  }
 },
 "nbformat": 4,
 "nbformat_minor": 2
}
